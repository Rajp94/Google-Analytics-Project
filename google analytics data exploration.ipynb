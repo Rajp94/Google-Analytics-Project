{
 "cells": [
  {
   "cell_type": "markdown",
   "metadata": {},
   "source": [
    "# Google Analytics Data Cleaning & Visualization\n",
    "## Introduction:\n",
    "In this project we will try to ingest data from google public domain datasets, after-which we shall clean the data by unnesting and using some of pandas function.\n",
    "\n",
    "### Project Summary:\n",
    "- Reading the data from the Google BigQuery and saving it locally as a JSON file.\n",
    "- Defining unnest function to unnest nested json lists.\n",
    "- We will apply data normalization technique to achieve a normal state where data visualization can be obtained.\n",
    "- We shall take look at memory usage of each column and will try to lower the computation time by changing some of the dtype.\n",
    "- In the end we will visualize the data by answering some of the questions that a business side can encounter."
   ]
  },
  {
   "cell_type": "markdown",
   "metadata": {},
   "source": [
    "Lets import all necessary libraries first:"
   ]
  },
  {
   "cell_type": "code",
   "execution_count": 1,
   "metadata": {},
   "outputs": [],
   "source": [
    "import pandas as pd\n",
    "import numpy as np\n",
    "import matplotlib.pyplot as plt\n",
    "import seaborn as sns\n",
    "%matplotlib inline\n",
    "\n",
    "#In case you want to read directly from Google BigQuery follow the below code, for our project we are working on same data as of \"sql\" query:\n",
    "\n",
    "#from google.cloud import bigquery\n",
    "#client = bigquery.Client()\n",
    "#sql = \"\"\"\n",
    "#    SELECT \n",
    "#        * \n",
    "#    FROM \n",
    "#        `bigquery-public-data.google_analytics_sample.ga_sessions_20170801` \n",
    "#    LIMIT 100\n",
    "#\"\"\"\n",
    "# Run a Standard SQL query using the environment's default project\n",
    "#df = client.query(sql).to_dataframe()\n",
    "# Run a Standard SQL query with the project set explicitly\n",
    "#project_id = 'your-project-id'\n",
    "#df = client.query(sql, project=project_id).to_dataframe()"
   ]
  },
  {
   "cell_type": "code",
   "execution_count": 2,
   "metadata": {},
   "outputs": [],
   "source": [
    "# lets read the json data\n",
    "raw = pd.read_json('./google_analytics_data.json')"
   ]
  },
  {
   "cell_type": "markdown",
   "metadata": {},
   "source": [
    "Let us have look at our DataFrame \"raw\""
   ]
  },
  {
   "cell_type": "code",
   "execution_count": 3,
   "metadata": {},
   "outputs": [
    {
     "data": {
      "text/html": [
       "<div>\n",
       "<style scoped>\n",
       "    .dataframe tbody tr th:only-of-type {\n",
       "        vertical-align: middle;\n",
       "    }\n",
       "\n",
       "    .dataframe tbody tr th {\n",
       "        vertical-align: top;\n",
       "    }\n",
       "\n",
       "    .dataframe thead th {\n",
       "        text-align: right;\n",
       "    }\n",
       "</style>\n",
       "<table border=\"1\" class=\"dataframe\">\n",
       "  <thead>\n",
       "    <tr style=\"text-align: right;\">\n",
       "      <th></th>\n",
       "      <th>channelGrouping</th>\n",
       "      <th>clientId</th>\n",
       "      <th>customDimensions</th>\n",
       "      <th>date</th>\n",
       "      <th>device</th>\n",
       "      <th>fullVisitorId</th>\n",
       "      <th>geoNetwork</th>\n",
       "      <th>hits</th>\n",
       "      <th>socialEngagementType</th>\n",
       "      <th>totals</th>\n",
       "      <th>trafficSource</th>\n",
       "      <th>userId</th>\n",
       "      <th>visitId</th>\n",
       "      <th>visitNumber</th>\n",
       "      <th>visitStartTime</th>\n",
       "      <th>visitorId</th>\n",
       "    </tr>\n",
       "  </thead>\n",
       "  <tbody>\n",
       "    <tr>\n",
       "      <th>0</th>\n",
       "      <td>Organic Search</td>\n",
       "      <td>NaN</td>\n",
       "      <td>[]</td>\n",
       "      <td>20170801</td>\n",
       "      <td>{'browser': 'Chrome', 'browserVersion': 'not a...</td>\n",
       "      <td>2.248282e+18</td>\n",
       "      <td>{'continent': 'Americas', 'subContinent': 'Car...</td>\n",
       "      <td>[{'hitNumber': '1', 'time': '0', 'hour': '3', ...</td>\n",
       "      <td>Not Socially Engaged</td>\n",
       "      <td>{'visits': '1', 'hits': '1', 'pageviews': '1',...</td>\n",
       "      <td>{'referralPath': None, 'campaign': '(not set)'...</td>\n",
       "      <td>NaN</td>\n",
       "      <td>1501583974</td>\n",
       "      <td>1</td>\n",
       "      <td>1501583974</td>\n",
       "      <td>NaN</td>\n",
       "    </tr>\n",
       "    <tr>\n",
       "      <th>1</th>\n",
       "      <td>Organic Search</td>\n",
       "      <td>NaN</td>\n",
       "      <td>[{'index': '4', 'value': 'North America'}]</td>\n",
       "      <td>20170801</td>\n",
       "      <td>{'browser': 'Chrome', 'browserVersion': 'not a...</td>\n",
       "      <td>8.647436e+18</td>\n",
       "      <td>{'continent': 'Americas', 'subContinent': 'Nor...</td>\n",
       "      <td>[{'hitNumber': '1', 'time': '0', 'hour': '12',...</td>\n",
       "      <td>Not Socially Engaged</td>\n",
       "      <td>{'visits': '1', 'hits': '1', 'pageviews': '1',...</td>\n",
       "      <td>{'referralPath': None, 'campaign': '(not set)'...</td>\n",
       "      <td>NaN</td>\n",
       "      <td>1501616585</td>\n",
       "      <td>1</td>\n",
       "      <td>1501616585</td>\n",
       "      <td>NaN</td>\n",
       "    </tr>\n",
       "  </tbody>\n",
       "</table>\n",
       "</div>"
      ],
      "text/plain": [
       "  channelGrouping  clientId                            customDimensions  \\\n",
       "0  Organic Search       NaN                                          []   \n",
       "1  Organic Search       NaN  [{'index': '4', 'value': 'North America'}]   \n",
       "\n",
       "       date                                             device  fullVisitorId  \\\n",
       "0  20170801  {'browser': 'Chrome', 'browserVersion': 'not a...   2.248282e+18   \n",
       "1  20170801  {'browser': 'Chrome', 'browserVersion': 'not a...   8.647436e+18   \n",
       "\n",
       "                                          geoNetwork  \\\n",
       "0  {'continent': 'Americas', 'subContinent': 'Car...   \n",
       "1  {'continent': 'Americas', 'subContinent': 'Nor...   \n",
       "\n",
       "                                                hits  socialEngagementType  \\\n",
       "0  [{'hitNumber': '1', 'time': '0', 'hour': '3', ...  Not Socially Engaged   \n",
       "1  [{'hitNumber': '1', 'time': '0', 'hour': '12',...  Not Socially Engaged   \n",
       "\n",
       "                                              totals  \\\n",
       "0  {'visits': '1', 'hits': '1', 'pageviews': '1',...   \n",
       "1  {'visits': '1', 'hits': '1', 'pageviews': '1',...   \n",
       "\n",
       "                                       trafficSource  userId     visitId  \\\n",
       "0  {'referralPath': None, 'campaign': '(not set)'...     NaN  1501583974   \n",
       "1  {'referralPath': None, 'campaign': '(not set)'...     NaN  1501616585   \n",
       "\n",
       "   visitNumber  visitStartTime  visitorId  \n",
       "0            1      1501583974        NaN  \n",
       "1            1      1501616585        NaN  "
      ]
     },
     "execution_count": 3,
     "metadata": {},
     "output_type": "execute_result"
    }
   ],
   "source": [
    "raw.head(2)"
   ]
  },
  {
   "cell_type": "markdown",
   "metadata": {},
   "source": [
    "#### We have lots of Nested Arrays to deal with!\n",
    "\n",
    "No Worries!\n",
    "\n",
    "Let us define a function that can take care of all nested columns and later we will be deleting all the unnecessary nested columns.\n",
    "\n",
    "##### Here, Below is the code that shall unnest a passed column, Let us follow the steps.\n",
    "\n",
    "- As we can see, it takes two parameters, data, & column_name.\n",
    "- Firstly, this code will get length of each and every entity in the column and stored it in length list.\n",
    "- Next, it will iterate column's entity to get array with maximum number of keys, so that we don't miss on any data.\n",
    "- Then, it will fitler the keys to eliminate \"not available in demo dataset\" keys.\n",
    "- Lastly, it will unnest the column to separate columns in the raw DataFrame."
   ]
  },
  {
   "cell_type": "code",
   "execution_count": 4,
   "metadata": {},
   "outputs": [],
   "source": [
    "def column_unnest(data,column_name):\n",
    "    '''\n",
    "    DOCSTRING: Get the key column list from the nested column in the dataframe\n",
    "    Input: data = table name (type:pd.DataFrame), column_name = column name to pass (type:pd.object)\n",
    "    Output: List of keys\n",
    "    '''\n",
    "    \n",
    "    length = []\n",
    "    final_keys = []\n",
    "    \n",
    "    # getting the length of all the entity to iterate it index position\n",
    "    \n",
    "    for n in data[column_name]:\n",
    "        length.append(len(n))\n",
    "    \n",
    "    #getting the index position of the entity with max keys\n",
    "    for n in range(0,len(length)): \n",
    "        if length[n] == max(length):\n",
    "            columns = data[column_name][n]\n",
    "        else:\n",
    "            pass\n",
    "       \n",
    "    #removing 'not available in demo dataset' keys   \n",
    "    for k,v in columns.items():\n",
    "        if v != 'not available in demo dataset':\n",
    "             final_keys.append(k)\n",
    "        else:\n",
    "            pass\n",
    "    #return final_keys\n",
    "    \n",
    "    #unnesting the array\n",
    "    for column in final_keys:\n",
    "        data[column] = data[column_name].apply(lambda x: x[column])"
   ]
  },
  {
   "cell_type": "markdown",
   "metadata": {},
   "source": [
    "Now, we shall unnest all the necessary columns and drop all the nested once."
   ]
  },
  {
   "cell_type": "code",
   "execution_count": 5,
   "metadata": {},
   "outputs": [],
   "source": [
    "column_unnest(raw,'geoNetwork')"
   ]
  },
  {
   "cell_type": "code",
   "execution_count": 6,
   "metadata": {},
   "outputs": [],
   "source": [
    "raw = raw.drop(columns=\"geoNetwork\")"
   ]
  },
  {
   "cell_type": "code",
   "execution_count": 7,
   "metadata": {},
   "outputs": [],
   "source": [
    "column_unnest(raw,'device')"
   ]
  },
  {
   "cell_type": "code",
   "execution_count": 8,
   "metadata": {},
   "outputs": [],
   "source": [
    "raw = raw.drop(columns=\"device\")"
   ]
  },
  {
   "cell_type": "code",
   "execution_count": 9,
   "metadata": {},
   "outputs": [],
   "source": [
    "column_unnest(raw,'trafficSource')"
   ]
  },
  {
   "cell_type": "code",
   "execution_count": 10,
   "metadata": {},
   "outputs": [],
   "source": [
    "raw = raw.drop(columns=\"trafficSource\")"
   ]
  },
  {
   "cell_type": "code",
   "execution_count": 11,
   "metadata": {},
   "outputs": [],
   "source": [
    "column_unnest(raw,'adwordsClickInfo')"
   ]
  },
  {
   "cell_type": "code",
   "execution_count": 12,
   "metadata": {},
   "outputs": [],
   "source": [
    "raw = raw.drop(columns=\"adwordsClickInfo\")"
   ]
  },
  {
   "cell_type": "markdown",
   "metadata": {},
   "source": [
    "#### Wait! there is one problem.\n",
    "\n",
    "#### What is it?\n",
    "\n",
    "Lets take a look at our dataframe."
   ]
  },
  {
   "cell_type": "code",
   "execution_count": 13,
   "metadata": {},
   "outputs": [
    {
     "data": {
      "text/html": [
       "<div>\n",
       "<style scoped>\n",
       "    .dataframe tbody tr th:only-of-type {\n",
       "        vertical-align: middle;\n",
       "    }\n",
       "\n",
       "    .dataframe tbody tr th {\n",
       "        vertical-align: top;\n",
       "    }\n",
       "\n",
       "    .dataframe thead th {\n",
       "        text-align: right;\n",
       "    }\n",
       "</style>\n",
       "<table border=\"1\" class=\"dataframe\">\n",
       "  <thead>\n",
       "    <tr style=\"text-align: right;\">\n",
       "      <th></th>\n",
       "      <th>channelGrouping</th>\n",
       "      <th>clientId</th>\n",
       "      <th>customDimensions</th>\n",
       "      <th>date</th>\n",
       "      <th>fullVisitorId</th>\n",
       "      <th>hits</th>\n",
       "      <th>socialEngagementType</th>\n",
       "      <th>totals</th>\n",
       "      <th>userId</th>\n",
       "      <th>visitId</th>\n",
       "      <th>...</th>\n",
       "      <th>adGroupId</th>\n",
       "      <th>creativeId</th>\n",
       "      <th>criteriaId</th>\n",
       "      <th>page</th>\n",
       "      <th>slot</th>\n",
       "      <th>gclId</th>\n",
       "      <th>customerId</th>\n",
       "      <th>adNetworkType</th>\n",
       "      <th>targetingCriteria</th>\n",
       "      <th>isVideoAd</th>\n",
       "    </tr>\n",
       "  </thead>\n",
       "  <tbody>\n",
       "    <tr>\n",
       "      <th>0</th>\n",
       "      <td>Organic Search</td>\n",
       "      <td>NaN</td>\n",
       "      <td>[]</td>\n",
       "      <td>20170801</td>\n",
       "      <td>2.248282e+18</td>\n",
       "      <td>[{'hitNumber': '1', 'time': '0', 'hour': '3', ...</td>\n",
       "      <td>Not Socially Engaged</td>\n",
       "      <td>{'visits': '1', 'hits': '1', 'pageviews': '1',...</td>\n",
       "      <td>NaN</td>\n",
       "      <td>1501583974</td>\n",
       "      <td>...</td>\n",
       "      <td>None</td>\n",
       "      <td>None</td>\n",
       "      <td>None</td>\n",
       "      <td>None</td>\n",
       "      <td>None</td>\n",
       "      <td>None</td>\n",
       "      <td>None</td>\n",
       "      <td>None</td>\n",
       "      <td>None</td>\n",
       "      <td>None</td>\n",
       "    </tr>\n",
       "    <tr>\n",
       "      <th>1</th>\n",
       "      <td>Organic Search</td>\n",
       "      <td>NaN</td>\n",
       "      <td>[{'index': '4', 'value': 'North America'}]</td>\n",
       "      <td>20170801</td>\n",
       "      <td>8.647436e+18</td>\n",
       "      <td>[{'hitNumber': '1', 'time': '0', 'hour': '12',...</td>\n",
       "      <td>Not Socially Engaged</td>\n",
       "      <td>{'visits': '1', 'hits': '1', 'pageviews': '1',...</td>\n",
       "      <td>NaN</td>\n",
       "      <td>1501616585</td>\n",
       "      <td>...</td>\n",
       "      <td>None</td>\n",
       "      <td>None</td>\n",
       "      <td>None</td>\n",
       "      <td>None</td>\n",
       "      <td>None</td>\n",
       "      <td>None</td>\n",
       "      <td>None</td>\n",
       "      <td>None</td>\n",
       "      <td>None</td>\n",
       "      <td>None</td>\n",
       "    </tr>\n",
       "  </tbody>\n",
       "</table>\n",
       "<p>2 rows × 41 columns</p>\n",
       "</div>"
      ],
      "text/plain": [
       "  channelGrouping  clientId                            customDimensions  \\\n",
       "0  Organic Search       NaN                                          []   \n",
       "1  Organic Search       NaN  [{'index': '4', 'value': 'North America'}]   \n",
       "\n",
       "       date  fullVisitorId                                               hits  \\\n",
       "0  20170801   2.248282e+18  [{'hitNumber': '1', 'time': '0', 'hour': '3', ...   \n",
       "1  20170801   8.647436e+18  [{'hitNumber': '1', 'time': '0', 'hour': '12',...   \n",
       "\n",
       "   socialEngagementType                                             totals  \\\n",
       "0  Not Socially Engaged  {'visits': '1', 'hits': '1', 'pageviews': '1',...   \n",
       "1  Not Socially Engaged  {'visits': '1', 'hits': '1', 'pageviews': '1',...   \n",
       "\n",
       "   userId     visitId  ...  adGroupId  creativeId  criteriaId  page  slot  \\\n",
       "0     NaN  1501583974  ...       None        None        None  None  None   \n",
       "1     NaN  1501616585  ...       None        None        None  None  None   \n",
       "\n",
       "  gclId customerId adNetworkType targetingCriteria isVideoAd  \n",
       "0  None       None          None              None      None  \n",
       "1  None       None          None              None      None  \n",
       "\n",
       "[2 rows x 41 columns]"
      ]
     },
     "execution_count": 13,
     "metadata": {},
     "output_type": "execute_result"
    }
   ],
   "source": [
    "raw.head(2)"
   ]
  },
  {
   "cell_type": "markdown",
   "metadata": {},
   "source": [
    "#### Ah Ha! Did you get it?\n",
    "\n",
    "Yes! Its a **totals** column, it has a key which is named similiar to one of the column in the DataFrame: **hits**.\n",
    "\n",
    "Right! So, we need to rename the **totals.hits** key before unnesting the same.\n",
    "\n",
    "Let us define a function, rather than changing it by lambda expression."
   ]
  },
  {
   "cell_type": "code",
   "execution_count": 14,
   "metadata": {},
   "outputs": [],
   "source": [
    "# Its a simple fucntion really, but can be really helpful in the future if we need to rename any of the key.\n",
    "def rename_key(data,column_name,old_name,new_name):\n",
    "    for item in data[column_name]:\n",
    "        item[new_name] = item.pop(old_name)"
   ]
  },
  {
   "cell_type": "code",
   "execution_count": 15,
   "metadata": {},
   "outputs": [],
   "source": [
    "# to make sure we don't overwrite hits column while unnesting totals.hits\n",
    "\n",
    "rename_key(raw,'totals','hits','total_hits')"
   ]
  },
  {
   "cell_type": "code",
   "execution_count": 16,
   "metadata": {},
   "outputs": [],
   "source": [
    "column_unnest(raw,'totals')"
   ]
  },
  {
   "cell_type": "code",
   "execution_count": 17,
   "metadata": {},
   "outputs": [],
   "source": [
    "raw = raw.drop(columns=\"totals\")"
   ]
  },
  {
   "cell_type": "markdown",
   "metadata": {},
   "source": [
    "##### Now, we have only one column left to Unnest and thats hits.\n",
    "\n",
    "Before that, exploring the hits column would be necessary."
   ]
  },
  {
   "cell_type": "code",
   "execution_count": 18,
   "metadata": {},
   "outputs": [
    {
     "data": {
      "text/plain": [
       "0    [{'hitNumber': '1', 'time': '0', 'hour': '3', ...\n",
       "1    [{'hitNumber': '1', 'time': '0', 'hour': '12',...\n",
       "2    [{'hitNumber': '1', 'time': '0', 'hour': '3', ...\n",
       "Name: hits, dtype: object"
      ]
     },
     "execution_count": 18,
     "metadata": {},
     "output_type": "execute_result"
    }
   ],
   "source": [
    "raw['hits'].head(3)\n",
    "# Right, its not that simple"
   ]
  },
  {
   "cell_type": "code",
   "execution_count": 19,
   "metadata": {},
   "outputs": [
    {
     "data": {
      "text/plain": [
       "[{'hitNumber': '1',\n",
       "  'time': '0',\n",
       "  'hour': '3',\n",
       "  'minute': '39',\n",
       "  'isSecure': None,\n",
       "  'isInteraction': 'true',\n",
       "  'isEntrance': 'true',\n",
       "  'isExit': 'true',\n",
       "  'referer': 'http://www.google.com/',\n",
       "  'page': {'pagePath': '/google+redesign/electronics',\n",
       "   'hostname': 'shop.googlemerchandisestore.com',\n",
       "   'pageTitle': 'Electronics | Google Merchandise Store',\n",
       "   'searchKeyword': None,\n",
       "   'searchCategory': None,\n",
       "   'pagePathLevel1': '/google+redesign/',\n",
       "   'pagePathLevel2': '/electronics',\n",
       "   'pagePathLevel3': '',\n",
       "   'pagePathLevel4': ''},\n",
       "  'transaction': {'transactionId': None,\n",
       "   'transactionRevenue': None,\n",
       "   'transactionTax': None,\n",
       "   'transactionShipping': None,\n",
       "   'affiliation': None,\n",
       "   'currencyCode': 'USD',\n",
       "   'localTransactionRevenue': None,\n",
       "   'localTransactionTax': None,\n",
       "   'localTransactionShipping': None,\n",
       "   'transactionCoupon': None},\n",
       "  'item': {'transactionId': None,\n",
       "   'productName': None,\n",
       "   'productCategory': None,\n",
       "   'productSku': None,\n",
       "   'itemQuantity': None,\n",
       "   'itemRevenue': None,\n",
       "   'currencyCode': 'USD',\n",
       "   'localItemRevenue': None},\n",
       "  'contentInfo': None,\n",
       "  'appInfo': {'name': None,\n",
       "   'version': None,\n",
       "   'id': None,\n",
       "   'installerId': None,\n",
       "   'appInstallerId': None,\n",
       "   'appName': None,\n",
       "   'appVersion': None,\n",
       "   'appId': None,\n",
       "   'screenName': 'shop.googlemerchandisestore.com/google+redesign/electronics',\n",
       "   'landingScreenName': 'shop.googlemerchandisestore.com/google+redesign/electronics',\n",
       "   'exitScreenName': 'shop.googlemerchandisestore.com/google+redesign/electronics',\n",
       "   'screenDepth': '0'},\n",
       "  'exceptionInfo': {'description': None,\n",
       "   'isFatal': 'true',\n",
       "   'exceptions': None,\n",
       "   'fatalExceptions': None},\n",
       "  'eventInfo': None,\n",
       "  'product': [{'productSKU': 'GGOEGBFC018799',\n",
       "    'v2ProductName': 'Electronics Accessory Pouch',\n",
       "    'v2ProductCategory': 'Home/Electronics/',\n",
       "    'productVariant': '(not set)',\n",
       "    'productBrand': '(not set)',\n",
       "    'productRevenue': None,\n",
       "    'localProductRevenue': None,\n",
       "    'productPrice': '4990000',\n",
       "    'localProductPrice': '4990000',\n",
       "    'productQuantity': None,\n",
       "    'productRefundAmount': None,\n",
       "    'localProductRefundAmount': None,\n",
       "    'isImpression': 'true',\n",
       "    'isClick': None,\n",
       "    'customDimensions': [],\n",
       "    'customMetrics': [],\n",
       "    'productListName': 'Category',\n",
       "    'productListPosition': '1',\n",
       "    'productCouponCode': None},\n",
       "   {'productSKU': 'GGOEGESB015199',\n",
       "    'v2ProductName': 'Google Flashlight',\n",
       "    'v2ProductCategory': 'Home/Electronics/',\n",
       "    'productVariant': '(not set)',\n",
       "    'productBrand': '(not set)',\n",
       "    'productRevenue': None,\n",
       "    'localProductRevenue': None,\n",
       "    'productPrice': '59990000',\n",
       "    'localProductPrice': '59990000',\n",
       "    'productQuantity': None,\n",
       "    'productRefundAmount': None,\n",
       "    'localProductRefundAmount': None,\n",
       "    'isImpression': 'true',\n",
       "    'isClick': None,\n",
       "    'customDimensions': [],\n",
       "    'customMetrics': [],\n",
       "    'productListName': 'Category',\n",
       "    'productListPosition': '2',\n",
       "    'productCouponCode': None},\n",
       "   {'productSKU': 'GGOEGEVA022399',\n",
       "    'v2ProductName': 'Micro Wireless Earbud',\n",
       "    'v2ProductCategory': 'Home/Electronics/',\n",
       "    'productVariant': '(not set)',\n",
       "    'productBrand': '(not set)',\n",
       "    'productRevenue': None,\n",
       "    'localProductRevenue': None,\n",
       "    'productPrice': '39990000',\n",
       "    'localProductPrice': '39990000',\n",
       "    'productQuantity': None,\n",
       "    'productRefundAmount': None,\n",
       "    'localProductRefundAmount': None,\n",
       "    'isImpression': 'true',\n",
       "    'isClick': None,\n",
       "    'customDimensions': [],\n",
       "    'customMetrics': [],\n",
       "    'productListName': 'Category',\n",
       "    'productListPosition': '3',\n",
       "    'productCouponCode': None},\n",
       "   {'productSKU': 'GGOEGCBB074199',\n",
       "    'v2ProductName': 'Google Car Clip Phone Holder',\n",
       "    'v2ProductCategory': 'Home/Electronics/',\n",
       "    'productVariant': '(not set)',\n",
       "    'productBrand': '(not set)',\n",
       "    'productRevenue': None,\n",
       "    'localProductRevenue': None,\n",
       "    'productPrice': '6990000',\n",
       "    'localProductPrice': '6990000',\n",
       "    'productQuantity': None,\n",
       "    'productRefundAmount': None,\n",
       "    'localProductRefundAmount': None,\n",
       "    'isImpression': 'true',\n",
       "    'isClick': None,\n",
       "    'customDimensions': [],\n",
       "    'customMetrics': [],\n",
       "    'productListName': 'Category',\n",
       "    'productListPosition': '4',\n",
       "    'productCouponCode': None},\n",
       "   {'productSKU': 'GGOEGFKA022299',\n",
       "    'v2ProductName': 'Keyboard DOT Sticker',\n",
       "    'v2ProductCategory': 'Home/Electronics/',\n",
       "    'productVariant': '(not set)',\n",
       "    'productBrand': '(not set)',\n",
       "    'productRevenue': None,\n",
       "    'localProductRevenue': None,\n",
       "    'productPrice': '1500000',\n",
       "    'localProductPrice': '1500000',\n",
       "    'productQuantity': None,\n",
       "    'productRefundAmount': None,\n",
       "    'localProductRefundAmount': None,\n",
       "    'isImpression': 'true',\n",
       "    'isClick': None,\n",
       "    'customDimensions': [],\n",
       "    'customMetrics': [],\n",
       "    'productListName': 'Category',\n",
       "    'productListPosition': '5',\n",
       "    'productCouponCode': None},\n",
       "   {'productSKU': 'GGOEGCBB074399',\n",
       "    'v2ProductName': 'Google Device Holder Sticky Pad',\n",
       "    'v2ProductCategory': 'Home/Electronics/',\n",
       "    'productVariant': '(not set)',\n",
       "    'productBrand': '(not set)',\n",
       "    'productRevenue': None,\n",
       "    'localProductRevenue': None,\n",
       "    'productPrice': '4990000',\n",
       "    'localProductPrice': '4990000',\n",
       "    'productQuantity': None,\n",
       "    'productRefundAmount': None,\n",
       "    'localProductRefundAmount': None,\n",
       "    'isImpression': 'true',\n",
       "    'isClick': None,\n",
       "    'customDimensions': [],\n",
       "    'customMetrics': [],\n",
       "    'productListName': 'Category',\n",
       "    'productListPosition': '6',\n",
       "    'productCouponCode': None},\n",
       "   {'productSKU': 'GGOEGCBC074299',\n",
       "    'v2ProductName': 'Google Device Stand',\n",
       "    'v2ProductCategory': 'Home/Electronics/',\n",
       "    'productVariant': '(not set)',\n",
       "    'productBrand': '(not set)',\n",
       "    'productRevenue': None,\n",
       "    'localProductRevenue': None,\n",
       "    'productPrice': '4990000',\n",
       "    'localProductPrice': '4990000',\n",
       "    'productQuantity': None,\n",
       "    'productRefundAmount': None,\n",
       "    'localProductRefundAmount': None,\n",
       "    'isImpression': 'true',\n",
       "    'isClick': None,\n",
       "    'customDimensions': [],\n",
       "    'customMetrics': [],\n",
       "    'productListName': 'Category',\n",
       "    'productListPosition': '7',\n",
       "    'productCouponCode': None},\n",
       "   {'productSKU': 'GGOEGEHQ072499',\n",
       "    'v2ProductName': 'Google 2200mAh Micro Charger',\n",
       "    'v2ProductCategory': 'Home/Electronics/',\n",
       "    'productVariant': '(not set)',\n",
       "    'productBrand': '(not set)',\n",
       "    'productRevenue': None,\n",
       "    'localProductRevenue': None,\n",
       "    'productPrice': '22990000',\n",
       "    'localProductPrice': '22990000',\n",
       "    'productQuantity': None,\n",
       "    'productRefundAmount': None,\n",
       "    'localProductRefundAmount': None,\n",
       "    'isImpression': 'true',\n",
       "    'isClick': None,\n",
       "    'customDimensions': [],\n",
       "    'customMetrics': [],\n",
       "    'productListName': 'Category',\n",
       "    'productListPosition': '8',\n",
       "    'productCouponCode': None},\n",
       "   {'productSKU': 'GGOEGEHQ072599',\n",
       "    'v2ProductName': 'Google 4400mAh Power Bank',\n",
       "    'v2ProductCategory': 'Home/Electronics/',\n",
       "    'productVariant': '(not set)',\n",
       "    'productBrand': '(not set)',\n",
       "    'productRevenue': None,\n",
       "    'localProductRevenue': None,\n",
       "    'productPrice': '37990000',\n",
       "    'localProductPrice': '37990000',\n",
       "    'productQuantity': None,\n",
       "    'productRefundAmount': None,\n",
       "    'localProductRefundAmount': None,\n",
       "    'isImpression': 'true',\n",
       "    'isClick': None,\n",
       "    'customDimensions': [],\n",
       "    'customMetrics': [],\n",
       "    'productListName': 'Category',\n",
       "    'productListPosition': '9',\n",
       "    'productCouponCode': None},\n",
       "   {'productSKU': 'GGOEGESB015099',\n",
       "    'v2ProductName': 'Basecamp Explorer Powerbank Flashlight',\n",
       "    'v2ProductCategory': 'Home/Electronics/',\n",
       "    'productVariant': '(not set)',\n",
       "    'productBrand': '(not set)',\n",
       "    'productRevenue': None,\n",
       "    'localProductRevenue': None,\n",
       "    'productPrice': '22990000',\n",
       "    'localProductPrice': '22990000',\n",
       "    'productQuantity': None,\n",
       "    'productRefundAmount': None,\n",
       "    'localProductRefundAmount': None,\n",
       "    'isImpression': 'true',\n",
       "    'isClick': None,\n",
       "    'customDimensions': [],\n",
       "    'customMetrics': [],\n",
       "    'productListName': 'Category',\n",
       "    'productListPosition': '10',\n",
       "    'productCouponCode': None},\n",
       "   {'productSKU': 'GGOEGESC014099',\n",
       "    'v2ProductName': 'Rocket Flashlight',\n",
       "    'v2ProductCategory': 'Home/Electronics/',\n",
       "    'productVariant': '(not set)',\n",
       "    'productBrand': '(not set)',\n",
       "    'productRevenue': None,\n",
       "    'localProductRevenue': None,\n",
       "    'productPrice': '4990000',\n",
       "    'localProductPrice': '4990000',\n",
       "    'productQuantity': None,\n",
       "    'productRefundAmount': None,\n",
       "    'localProductRefundAmount': None,\n",
       "    'isImpression': 'true',\n",
       "    'isClick': None,\n",
       "    'customDimensions': [],\n",
       "    'customMetrics': [],\n",
       "    'productListName': 'Category',\n",
       "    'productListPosition': '11',\n",
       "    'productCouponCode': None},\n",
       "   {'productSKU': 'GGOEGESQ016799',\n",
       "    'v2ProductName': 'Plastic Sliding Flashlight',\n",
       "    'v2ProductCategory': 'Home/Electronics/',\n",
       "    'productVariant': '(not set)',\n",
       "    'productBrand': '(not set)',\n",
       "    'productRevenue': None,\n",
       "    'localProductRevenue': None,\n",
       "    'productPrice': '12990000',\n",
       "    'localProductPrice': '12990000',\n",
       "    'productQuantity': None,\n",
       "    'productRefundAmount': None,\n",
       "    'localProductRefundAmount': None,\n",
       "    'isImpression': 'true',\n",
       "    'isClick': None,\n",
       "    'customDimensions': [],\n",
       "    'customMetrics': [],\n",
       "    'productListName': 'Category',\n",
       "    'productListPosition': '12',\n",
       "    'productCouponCode': None}],\n",
       "  'promotion': [],\n",
       "  'promotionActionInfo': None,\n",
       "  'refund': None,\n",
       "  'eCommerceAction': {'action_type': '0', 'step': '1', 'option': None},\n",
       "  'experiment': [],\n",
       "  'publisher': None,\n",
       "  'customVariables': [],\n",
       "  'customDimensions': [],\n",
       "  'customMetrics': [],\n",
       "  'type': 'PAGE',\n",
       "  'social': {'socialInteractionNetwork': None,\n",
       "   'socialInteractionAction': None,\n",
       "   'socialInteractions': None,\n",
       "   'socialInteractionTarget': None,\n",
       "   'socialNetwork': '(not set)',\n",
       "   'uniqueSocialInteractions': None,\n",
       "   'hasSocialSourceReferral': 'No',\n",
       "   'socialInteractionNetworkAction': ' : '},\n",
       "  'latencyTracking': None,\n",
       "  'sourcePropertyInfo': None,\n",
       "  'contentGroup': {'contentGroup1': '(not set)',\n",
       "   'contentGroup2': 'Electronics',\n",
       "   'contentGroup3': '(not set)',\n",
       "   'contentGroup4': '(not set)',\n",
       "   'contentGroup5': '(not set)',\n",
       "   'previousContentGroup1': '(entrance)',\n",
       "   'previousContentGroup2': '(entrance)',\n",
       "   'previousContentGroup3': '(entrance)',\n",
       "   'previousContentGroup4': '(entrance)',\n",
       "   'previousContentGroup5': '(entrance)',\n",
       "   'contentGroupUniqueViews1': None,\n",
       "   'contentGroupUniqueViews2': '1',\n",
       "   'contentGroupUniqueViews3': None,\n",
       "   'contentGroupUniqueViews4': None,\n",
       "   'contentGroupUniqueViews5': None},\n",
       "  'dataSource': 'web',\n",
       "  'publisher_infos': []}]"
      ]
     },
     "execution_count": 19,
     "metadata": {},
     "output_type": "execute_result"
    }
   ],
   "source": [
    "# let's dive deep\n",
    "\n",
    "raw['hits'][0]\n",
    "\n",
    "#scroll down"
   ]
  },
  {
   "cell_type": "markdown",
   "metadata": {},
   "source": [
    "### Are you here?\n",
    "\n",
    "Great! Now, unnesting this will take some time and greater logic.\n",
    "\n",
    "Let's keep it for some other time, and extract some of the desired keys for **hits** column by using lambda expression as below."
   ]
  },
  {
   "cell_type": "code",
   "execution_count": 20,
   "metadata": {},
   "outputs": [],
   "source": [
    "#extracting and concatenating hours & minutes\n",
    "raw['time'] = raw['hits'].apply(lambda x: x[0]['time']+x[0]['hour']+x[0]['minute'])"
   ]
  },
  {
   "cell_type": "code",
   "execution_count": 21,
   "metadata": {},
   "outputs": [
    {
     "data": {
      "text/plain": [
       "dtype('O')"
      ]
     },
     "execution_count": 21,
     "metadata": {},
     "output_type": "execute_result"
    }
   ],
   "source": [
    "raw['time'].dtype # right its an object need to conver it in integar form first."
   ]
  },
  {
   "cell_type": "code",
   "execution_count": 22,
   "metadata": {},
   "outputs": [],
   "source": [
    "raw['time'] = raw['time'].apply(lambda x: int(x))"
   ]
  },
  {
   "cell_type": "code",
   "execution_count": 23,
   "metadata": {},
   "outputs": [],
   "source": [
    "#setting HH:MM:SS format\n",
    "raw['time'] = raw['time'].replace(0,'0000').astype(str).apply(lambda x: (x[:-2]+':'+x[-2:]+':00'))"
   ]
  },
  {
   "cell_type": "code",
   "execution_count": 24,
   "metadata": {},
   "outputs": [
    {
     "data": {
      "text/plain": [
       "0     3:39:00\n",
       "1    12:43:00\n",
       "2     3:29:00\n",
       "3      :43:00\n",
       "4    22:24:00\n",
       "Name: time, dtype: object"
      ]
     },
     "execution_count": 24,
     "metadata": {},
     "output_type": "execute_result"
    }
   ],
   "source": [
    "raw['time'].head() # there are some entities with : at the start lets fix that. "
   ]
  },
  {
   "cell_type": "code",
   "execution_count": 25,
   "metadata": {},
   "outputs": [],
   "source": [
    "#for all the time starting with ':'\n",
    "raw['time'] = raw['time'].replace('^:','00:',regex=True)"
   ]
  },
  {
   "cell_type": "code",
   "execution_count": 26,
   "metadata": {},
   "outputs": [
    {
     "data": {
      "text/html": [
       "<div>\n",
       "<style scoped>\n",
       "    .dataframe tbody tr th:only-of-type {\n",
       "        vertical-align: middle;\n",
       "    }\n",
       "\n",
       "    .dataframe tbody tr th {\n",
       "        vertical-align: top;\n",
       "    }\n",
       "\n",
       "    .dataframe thead th {\n",
       "        text-align: right;\n",
       "    }\n",
       "</style>\n",
       "<table border=\"1\" class=\"dataframe\">\n",
       "  <thead>\n",
       "    <tr style=\"text-align: right;\">\n",
       "      <th></th>\n",
       "      <th>date</th>\n",
       "      <th>time</th>\n",
       "    </tr>\n",
       "  </thead>\n",
       "  <tbody>\n",
       "    <tr>\n",
       "      <th>0</th>\n",
       "      <td>20170801</td>\n",
       "      <td>3:39:00</td>\n",
       "    </tr>\n",
       "    <tr>\n",
       "      <th>1</th>\n",
       "      <td>20170801</td>\n",
       "      <td>12:43:00</td>\n",
       "    </tr>\n",
       "    <tr>\n",
       "      <th>2</th>\n",
       "      <td>20170801</td>\n",
       "      <td>3:29:00</td>\n",
       "    </tr>\n",
       "  </tbody>\n",
       "</table>\n",
       "</div>"
      ],
      "text/plain": [
       "       date      time\n",
       "0  20170801   3:39:00\n",
       "1  20170801  12:43:00\n",
       "2  20170801   3:29:00"
      ]
     },
     "execution_count": 26,
     "metadata": {},
     "output_type": "execute_result"
    }
   ],
   "source": [
    "raw[['date','time']].head(3)"
   ]
  },
  {
   "cell_type": "markdown",
   "metadata": {},
   "source": [
    "Now that we have normalized the time dimensions, lets explore memory usage of each column and we will try to lower the computation time by changing some of the dtype."
   ]
  },
  {
   "cell_type": "code",
   "execution_count": 27,
   "metadata": {},
   "outputs": [
    {
     "data": {
      "text/plain": [
       "channelGrouping                                               Organic Search\n",
       "clientId                                                                 NaN\n",
       "customDimensions                  [{'index': '4', 'value': 'North America'}]\n",
       "date                                                                20170801\n",
       "fullVisitorId                                                    8.64744e+18\n",
       "hits                       [{'hitNumber': '1', 'time': '0', 'hour': '12',...\n",
       "socialEngagementType                                    Not Socially Engaged\n",
       "userId                                                                   NaN\n",
       "visitId                                                           1501616585\n",
       "visitNumber                                                                1\n",
       "visitStartTime                                                    1501616585\n",
       "visitorId                                                                NaN\n",
       "continent                                                           Americas\n",
       "subContinent                                                Northern America\n",
       "country                                                        United States\n",
       "networkDomain                                                      (not set)\n",
       "browser                                                               Chrome\n",
       "operatingSystem                                                    Macintosh\n",
       "isMobile                                                               false\n",
       "javaEnabled                                                             None\n",
       "deviceCategory                                                       desktop\n",
       "referralPath                                                            None\n",
       "campaign                                                           (not set)\n",
       "source                                                              (direct)\n",
       "medium                                                                (none)\n",
       "keyword                                                                 None\n",
       "adContent                                                               None\n",
       "isTrueDirect                                                            None\n",
       "campaignCode                                                            None\n",
       "campaignId                                                              None\n",
       "adGroupId                                                               None\n",
       "creativeId                                                              None\n",
       "criteriaId                                                              None\n",
       "page                                                                    None\n",
       "slot                                                                    None\n",
       "gclId                                                                   None\n",
       "customerId                                                              None\n",
       "adNetworkType                                                           None\n",
       "targetingCriteria                                                       None\n",
       "isVideoAd                                                               None\n",
       "visits                                                                     1\n",
       "pageviews                                                                  1\n",
       "timeOnSite                                                              None\n",
       "bounces                                                                    1\n",
       "transactions                                                            None\n",
       "transactionRevenue                                                      None\n",
       "newVisits                                                                  1\n",
       "screenviews                                                             None\n",
       "uniqueScreenviews                                                       None\n",
       "timeOnScreen                                                            None\n",
       "totalTransactionRevenue                                                 None\n",
       "sessionQualityDim                                                          1\n",
       "total_hits                                                                 1\n",
       "time                                                                12:43:00\n",
       "Name: 1, dtype: object"
      ]
     },
     "execution_count": 27,
     "metadata": {},
     "output_type": "execute_result"
    }
   ],
   "source": [
    "raw.iloc[1,:] \n",
    "#note that the dtype of column like pageviews and newVisits are object do not change to integar as their property is boolean, it will be helpful to do count on them."
   ]
  },
  {
   "cell_type": "markdown",
   "metadata": {},
   "source": [
    "Lets check memeory usage of all the columns"
   ]
  },
  {
   "cell_type": "code",
   "execution_count": 28,
   "metadata": {},
   "outputs": [
    {
     "data": {
      "text/plain": [
       "Index                       80\n",
       "channelGrouping            800\n",
       "clientId                   800\n",
       "customDimensions           800\n",
       "date                       800\n",
       "fullVisitorId              800\n",
       "hits                       800\n",
       "socialEngagementType       800\n",
       "userId                     800\n",
       "visitId                    800\n",
       "visitNumber                800\n",
       "visitStartTime             800\n",
       "visitorId                  800\n",
       "continent                  800\n",
       "subContinent               800\n",
       "country                    800\n",
       "networkDomain              800\n",
       "browser                    800\n",
       "operatingSystem            800\n",
       "isMobile                   800\n",
       "javaEnabled                800\n",
       "deviceCategory             800\n",
       "referralPath               800\n",
       "campaign                   800\n",
       "source                     800\n",
       "medium                     800\n",
       "keyword                    800\n",
       "adContent                  800\n",
       "isTrueDirect               800\n",
       "campaignCode               800\n",
       "campaignId                 800\n",
       "adGroupId                  800\n",
       "creativeId                 800\n",
       "criteriaId                 800\n",
       "page                       800\n",
       "slot                       800\n",
       "gclId                      800\n",
       "customerId                 800\n",
       "adNetworkType              800\n",
       "targetingCriteria          800\n",
       "isVideoAd                  800\n",
       "visits                     800\n",
       "pageviews                  800\n",
       "timeOnSite                 800\n",
       "bounces                    800\n",
       "transactions               800\n",
       "transactionRevenue         800\n",
       "newVisits                  800\n",
       "screenviews                800\n",
       "uniqueScreenviews          800\n",
       "timeOnScreen               800\n",
       "totalTransactionRevenue    800\n",
       "sessionQualityDim          800\n",
       "total_hits                 800\n",
       "time                       800\n",
       "dtype: int64"
      ]
     },
     "execution_count": 28,
     "metadata": {},
     "output_type": "execute_result"
    }
   ],
   "source": [
    "raw.memory_usage('deep')"
   ]
  },
  {
   "cell_type": "markdown",
   "metadata": {},
   "source": [
    "As we can see there are some **category** columns such as **country**, **continent**, **subContinent**, **browser**, **operatingSystem**, & **source**.\n",
    "\n",
    "Let us change the data type of these columns to \"category\"."
   ]
  },
  {
   "cell_type": "code",
   "execution_count": 29,
   "metadata": {},
   "outputs": [],
   "source": [
    "raw['country'] = raw['country'].astype('category')"
   ]
  },
  {
   "cell_type": "code",
   "execution_count": 30,
   "metadata": {},
   "outputs": [],
   "source": [
    "raw['continent'] = raw['continent'].astype('category')"
   ]
  },
  {
   "cell_type": "code",
   "execution_count": 31,
   "metadata": {},
   "outputs": [],
   "source": [
    "raw['subContinent'] = raw['subContinent'].astype('category')"
   ]
  },
  {
   "cell_type": "code",
   "execution_count": 32,
   "metadata": {},
   "outputs": [],
   "source": [
    "raw['browser'] = raw['browser'].astype('category')"
   ]
  },
  {
   "cell_type": "code",
   "execution_count": 33,
   "metadata": {},
   "outputs": [],
   "source": [
    "raw['operatingSystem'] = raw['operatingSystem'].astype('category')"
   ]
  },
  {
   "cell_type": "code",
   "execution_count": 34,
   "metadata": {},
   "outputs": [],
   "source": [
    "raw['source'] = raw['source'].astype('category')"
   ]
  },
  {
   "cell_type": "code",
   "execution_count": 35,
   "metadata": {},
   "outputs": [
    {
     "data": {
      "text/plain": [
       "Index                        80\n",
       "channelGrouping             800\n",
       "clientId                    800\n",
       "customDimensions            800\n",
       "date                        800\n",
       "fullVisitorId               800\n",
       "hits                        800\n",
       "socialEngagementType        800\n",
       "userId                      800\n",
       "visitId                     800\n",
       "visitNumber                 800\n",
       "visitStartTime              800\n",
       "visitorId                   800\n",
       "continent                   292\n",
       "subContinent                844\n",
       "country                    1604\n",
       "networkDomain               800\n",
       "browser                     308\n",
       "operatingSystem             476\n",
       "isMobile                    800\n",
       "javaEnabled                 800\n",
       "deviceCategory              800\n",
       "referralPath                800\n",
       "campaign                    800\n",
       "source                      204\n",
       "medium                      800\n",
       "keyword                     800\n",
       "adContent                   800\n",
       "isTrueDirect                800\n",
       "campaignCode                800\n",
       "campaignId                  800\n",
       "adGroupId                   800\n",
       "creativeId                  800\n",
       "criteriaId                  800\n",
       "page                        800\n",
       "slot                        800\n",
       "gclId                       800\n",
       "customerId                  800\n",
       "adNetworkType               800\n",
       "targetingCriteria           800\n",
       "isVideoAd                   800\n",
       "visits                      800\n",
       "pageviews                   800\n",
       "timeOnSite                  800\n",
       "bounces                     800\n",
       "transactions                800\n",
       "transactionRevenue          800\n",
       "newVisits                   800\n",
       "screenviews                 800\n",
       "uniqueScreenviews           800\n",
       "timeOnScreen                800\n",
       "totalTransactionRevenue     800\n",
       "sessionQualityDim           800\n",
       "total_hits                  800\n",
       "time                        800\n",
       "dtype: int64"
      ]
     },
     "execution_count": 35,
     "metadata": {},
     "output_type": "execute_result"
    }
   ],
   "source": [
    "# Check the memory usage again\n",
    "\n",
    "raw.memory_usage('deep')"
   ]
  },
  {
   "cell_type": "markdown",
   "metadata": {},
   "source": [
    "#### There is only one hump in memory and that is for country dimension why is that?\n",
    "\n",
    "If we check the unique value of a country column, we see there are total 28 countries logged, which were taking about 800 bytes and now its doubled, why? because, now it is storing lookup of ids with those 28 countries and for 100 rows."
   ]
  },
  {
   "cell_type": "code",
   "execution_count": 36,
   "metadata": {},
   "outputs": [
    {
     "data": {
      "text/plain": [
       "[St. Lucia, United States, India, Switzerland, Vietnam, ..., Netherlands, Venezuela, Russia, Slovakia, Brazil]\n",
       "Length: 28\n",
       "Categories (28, object): [St. Lucia, United States, India, Switzerland, ..., Venezuela, Russia, Slovakia, Brazil]"
      ]
     },
     "execution_count": 36,
     "metadata": {},
     "output_type": "execute_result"
    }
   ],
   "source": [
    "raw['country'].unique()"
   ]
  },
  {
   "cell_type": "code",
   "execution_count": 37,
   "metadata": {},
   "outputs": [
    {
     "data": {
      "text/plain": [
       "0    21\n",
       "1    25\n",
       "2     7\n",
       "3    22\n",
       "4    25\n",
       "5    27\n",
       "6     3\n",
       "7     8\n",
       "8    25\n",
       "9    25\n",
       "dtype: int8"
      ]
     },
     "execution_count": 37,
     "metadata": {},
     "output_type": "execute_result"
    }
   ],
   "source": [
    "raw['country'].cat.codes.head(10) # thess are the under-the-hood values that are getting logged."
   ]
  },
  {
   "cell_type": "code",
   "execution_count": 38,
   "metadata": {},
   "outputs": [
    {
     "data": {
      "text/plain": [
       "42208"
      ]
     },
     "execution_count": 38,
     "metadata": {},
     "output_type": "execute_result"
    }
   ],
   "source": [
    "raw.memory_usage('deep').sum()"
   ]
  },
  {
   "cell_type": "code",
   "execution_count": 39,
   "metadata": {},
   "outputs": [
    {
     "data": {
      "text/plain": [
       "channelGrouping          object\n",
       "clientId                float64\n",
       "customDimensions         object\n",
       "date                      int64\n",
       "fullVisitorId           float64\n",
       "hits                     object\n",
       "socialEngagementType     object\n",
       "userId                  float64\n",
       "visitId                   int64\n",
       "visitNumber               int64\n",
       "dtype: object"
      ]
     },
     "execution_count": 39,
     "metadata": {},
     "output_type": "execute_result"
    }
   ],
   "source": [
    "raw.dtypes.head(10)"
   ]
  },
  {
   "cell_type": "markdown",
   "metadata": {},
   "source": [
    "#### And Finally we are all set to visualize our data."
   ]
  },
  {
   "cell_type": "markdown",
   "metadata": {},
   "source": [
    "##### Wait, There is still something, how are we gone group by hours data? we do need column for that, don't we?\n",
    "Not a problem lets create one."
   ]
  },
  {
   "cell_type": "code",
   "execution_count": 40,
   "metadata": {},
   "outputs": [],
   "source": [
    "raw['hours'] = raw['time'].apply(lambda x: x.split(':')[0]) \n",
    "#spliting is the one option I came up with, there is pandas to_datetime methos which I guess is the proper way to use timed dimensions."
   ]
  },
  {
   "cell_type": "code",
   "execution_count": 41,
   "metadata": {},
   "outputs": [],
   "source": [
    "raw['hours'] = raw.hours.astype('int64')"
   ]
  },
  {
   "cell_type": "markdown",
   "metadata": {},
   "source": [
    "#### And Finally we are all set to visualize our data.\n",
    "\n",
    "Lets answer few Business Queries!"
   ]
  },
  {
   "cell_type": "markdown",
   "metadata": {},
   "source": [
    "##### Query Number 1:\n",
    "\n",
    "#### What are the numbers of Views, which camed directly to the site? and also plot new visitors with hour split!"
   ]
  },
  {
   "cell_type": "code",
   "execution_count": 42,
   "metadata": {},
   "outputs": [
    {
     "data": {
      "text/html": [
       "<div>\n",
       "<style scoped>\n",
       "    .dataframe tbody tr th:only-of-type {\n",
       "        vertical-align: middle;\n",
       "    }\n",
       "\n",
       "    .dataframe tbody tr th {\n",
       "        vertical-align: top;\n",
       "    }\n",
       "\n",
       "    .dataframe thead th {\n",
       "        text-align: right;\n",
       "    }\n",
       "</style>\n",
       "<table border=\"1\" class=\"dataframe\">\n",
       "  <thead>\n",
       "    <tr style=\"text-align: right;\">\n",
       "      <th></th>\n",
       "      <th>pageviews</th>\n",
       "      <th>visitNumber</th>\n",
       "      <th>newVisits</th>\n",
       "    </tr>\n",
       "    <tr>\n",
       "      <th>hours</th>\n",
       "      <th></th>\n",
       "      <th></th>\n",
       "      <th></th>\n",
       "    </tr>\n",
       "  </thead>\n",
       "  <tbody>\n",
       "    <tr>\n",
       "      <th>0</th>\n",
       "      <td>11</td>\n",
       "      <td>24</td>\n",
       "      <td>6</td>\n",
       "    </tr>\n",
       "    <tr>\n",
       "      <th>1</th>\n",
       "      <td>6</td>\n",
       "      <td>7</td>\n",
       "      <td>5</td>\n",
       "    </tr>\n",
       "    <tr>\n",
       "      <th>2</th>\n",
       "      <td>6</td>\n",
       "      <td>11</td>\n",
       "      <td>5</td>\n",
       "    </tr>\n",
       "  </tbody>\n",
       "</table>\n",
       "</div>"
      ],
      "text/plain": [
       "       pageviews  visitNumber  newVisits\n",
       "hours                                   \n",
       "0             11           24          6\n",
       "1              6            7          5\n",
       "2              6           11          5"
      ]
     },
     "execution_count": 42,
     "metadata": {},
     "output_type": "execute_result"
    }
   ],
   "source": [
    "# Lets query it first:\n",
    "raw[raw['source'] == '(direct)'].groupby('hours').agg({'pageviews':'count','visitNumber':'sum','newVisits':'count'}).head(3)"
   ]
  },
  {
   "cell_type": "code",
   "execution_count": 43,
   "metadata": {},
   "outputs": [
    {
     "data": {
      "text/plain": [
       "Text(0.5, 1, 'Direct Impressions Stats')"
      ]
     },
     "execution_count": 43,
     "metadata": {},
     "output_type": "execute_result"
    },
    {
     "data": {
      "image/png": "[encoded data removed]",
      "text/plain": [
       "<Figure size 1152x288 with 1 Axes>"
      ]
     },
     "metadata": {
      "needs_background": "light"
     },
     "output_type": "display_data"
    }
   ],
   "source": [
    "# Now lets plot it.\n",
    "raw[raw['source'] == '(direct)'].groupby('hours').agg({'pageviews':'count','visitNumber':'sum','newVisits':'count'})\\\n",
    ".plot(figsize=(16,4))\n",
    "\n",
    "plt.tight_layout()\n",
    "plt.xlabel('Hours')\n",
    "plt.ylabel('Metrics')\n",
    "plt.title('Direct Impressions Stats')"
   ]
  },
  {
   "cell_type": "code",
   "execution_count": 44,
   "metadata": {},
   "outputs": [
    {
     "data": {
      "text/plain": [
       "<matplotlib.legend.Legend at 0x1ccad1f3cf8>"
      ]
     },
     "execution_count": 44,
     "metadata": {},
     "output_type": "execute_result"
    },
    {
     "data": {
      "image/png": "[encoded data removed]",
      "text/plain": [
       "<Figure size 1152x288 with 1 Axes>"
      ]
     },
     "metadata": {
      "needs_background": "light"
     },
     "output_type": "display_data"
    }
   ],
   "source": [
    "#matplotlib OO method\n",
    "fig = plt.figure(figsize=(16,4))\n",
    "\n",
    "axes = fig.add_axes([0.1,0.1,0.8,0.8])\n",
    "axes.plot(raw[raw['source'] == '(direct)'].groupby('hours').agg({'pageviews':'count'}),color='red',marker='o',label='Impressions',lw=0.7,alpha=0.5)\n",
    "axes.plot(raw[raw['source'] == '(direct)'].groupby('hours').agg({'visitNumber':'sum'}),color='green',marker='o',label='Visitors',linewidth=0.7)\n",
    "axes.plot(raw[raw['source'] == '(direct)'].groupby('hours').agg({'newVisits':'count'}),color='blue',marker = 'o',label='NewVisitors',linewidth=0.7,alpha=0.5)\n",
    "axes.set_xlim([0,23])\n",
    "axes.set_ylabel('Metrics')\n",
    "axes.set_xlabel('Hour')\n",
    "axes.set_title('Direct Impressions Stats')\n",
    "axes.legend(loc=0)"
   ]
  },
  {
   "cell_type": "code",
   "execution_count": 45,
   "metadata": {},
   "outputs": [],
   "source": [
    "#seaborn method\n",
    "df = raw[raw['source'] == '(direct)'].groupby('hours').agg({'pageviews':'count','visitNumber':'sum','newVisits':'count'})"
   ]
  },
  {
   "cell_type": "code",
   "execution_count": 46,
   "metadata": {},
   "outputs": [],
   "source": [
    "df = df.reset_index()"
   ]
  },
  {
   "cell_type": "code",
   "execution_count": 47,
   "metadata": {},
   "outputs": [
    {
     "data": {
      "text/plain": [
       "<matplotlib.legend.Legend at 0x1ccad1aa128>"
      ]
     },
     "execution_count": 47,
     "metadata": {},
     "output_type": "execute_result"
    },
    {
     "data": {
      "image/png": "[encoded data removed]",
      "text/plain": [
       "<Figure size 1152x360 with 1 Axes>"
      ]
     },
     "metadata": {
      "needs_background": "light"
     },
     "output_type": "display_data"
    }
   ],
   "source": [
    "plt.figure(figsize=(16,5))\n",
    "sns.lineplot(data=df[['visitNumber','pageviews','newVisits']],hue='hours',style=\"hours\")\n",
    "plt.xlim([0,23])\n",
    "plt.ylabel('Metrics')\n",
    "plt.xlabel('Hour')\n",
    "plt.title('Direct Impressions Stats')\n",
    "plt.legend(loc=0)"
   ]
  },
  {
   "cell_type": "markdown",
   "metadata": {},
   "source": [
    "##### Query Number 2:\n",
    "\n",
    "#### Plot the average number of Visitors throughout the top 5 countries!"
   ]
  },
  {
   "cell_type": "code",
   "execution_count": 48,
   "metadata": {},
   "outputs": [
    {
     "data": {
      "text/html": [
       "<div>\n",
       "<style scoped>\n",
       "    .dataframe tbody tr th:only-of-type {\n",
       "        vertical-align: middle;\n",
       "    }\n",
       "\n",
       "    .dataframe tbody tr th {\n",
       "        vertical-align: top;\n",
       "    }\n",
       "\n",
       "    .dataframe thead th {\n",
       "        text-align: right;\n",
       "    }\n",
       "</style>\n",
       "<table border=\"1\" class=\"dataframe\">\n",
       "  <thead>\n",
       "    <tr style=\"text-align: right;\">\n",
       "      <th></th>\n",
       "      <th>visitNumber</th>\n",
       "    </tr>\n",
       "    <tr>\n",
       "      <th>country</th>\n",
       "      <th></th>\n",
       "    </tr>\n",
       "  </thead>\n",
       "  <tbody>\n",
       "    <tr>\n",
       "      <th>Italy</th>\n",
       "      <td>26.000000</td>\n",
       "    </tr>\n",
       "    <tr>\n",
       "      <th>China</th>\n",
       "      <td>6.000000</td>\n",
       "    </tr>\n",
       "    <tr>\n",
       "      <th>Russia</th>\n",
       "      <td>3.000000</td>\n",
       "    </tr>\n",
       "    <tr>\n",
       "      <th>Spain</th>\n",
       "      <td>3.000000</td>\n",
       "    </tr>\n",
       "    <tr>\n",
       "      <th>Poland</th>\n",
       "      <td>2.666667</td>\n",
       "    </tr>\n",
       "  </tbody>\n",
       "</table>\n",
       "</div>"
      ],
      "text/plain": [
       "         visitNumber\n",
       "country             \n",
       "Italy      26.000000\n",
       "China       6.000000\n",
       "Russia      3.000000\n",
       "Spain       3.000000\n",
       "Poland      2.666667"
      ]
     },
     "execution_count": 48,
     "metadata": {},
     "output_type": "execute_result"
    }
   ],
   "source": [
    "# Lets create a query first\n",
    "raw.groupby(['country']).agg({'visitNumber':'mean'}).sort_values(by='visitNumber',ascending = False).head(5)"
   ]
  },
  {
   "cell_type": "code",
   "execution_count": 49,
   "metadata": {},
   "outputs": [
    {
     "data": {
      "text/plain": [
       "Text(0, 0.5, 'Average Visitors')"
      ]
     },
     "execution_count": 49,
     "metadata": {},
     "output_type": "execute_result"
    },
    {
     "data": {
      "image/png": "[encoded data removed]",
      "text/plain": [
       "<Figure size 720x720 with 1 Axes>"
      ]
     },
     "metadata": {},
     "output_type": "display_data"
    }
   ],
   "source": [
    "raw.groupby(['country']).agg({'visitNumber':'mean'}).sort_values(by='visitNumber',ascending = False).head(5).plot(y='visitNumber',kind='pie',figsize=(10, 10),autopct='%1.1f%%')\n",
    "plt.ylabel('Average Visitors')"
   ]
  },
  {
   "cell_type": "code",
   "execution_count": 50,
   "metadata": {},
   "outputs": [],
   "source": [
    "#matplotlib OO method\n",
    "x = raw.groupby(['country']).agg({'visitNumber':'mean'}).sort_values(by='visitNumber',ascending = False).head(5).reset_index()"
   ]
  },
  {
   "cell_type": "code",
   "execution_count": 51,
   "metadata": {},
   "outputs": [
    {
     "data": {
      "text/html": [
       "<div>\n",
       "<style scoped>\n",
       "    .dataframe tbody tr th:only-of-type {\n",
       "        vertical-align: middle;\n",
       "    }\n",
       "\n",
       "    .dataframe tbody tr th {\n",
       "        vertical-align: top;\n",
       "    }\n",
       "\n",
       "    .dataframe thead th {\n",
       "        text-align: right;\n",
       "    }\n",
       "</style>\n",
       "<table border=\"1\" class=\"dataframe\">\n",
       "  <thead>\n",
       "    <tr style=\"text-align: right;\">\n",
       "      <th></th>\n",
       "      <th>country</th>\n",
       "      <th>visitNumber</th>\n",
       "    </tr>\n",
       "  </thead>\n",
       "  <tbody>\n",
       "    <tr>\n",
       "      <th>0</th>\n",
       "      <td>Italy</td>\n",
       "      <td>26.000000</td>\n",
       "    </tr>\n",
       "    <tr>\n",
       "      <th>1</th>\n",
       "      <td>China</td>\n",
       "      <td>6.000000</td>\n",
       "    </tr>\n",
       "    <tr>\n",
       "      <th>2</th>\n",
       "      <td>Russia</td>\n",
       "      <td>3.000000</td>\n",
       "    </tr>\n",
       "    <tr>\n",
       "      <th>3</th>\n",
       "      <td>Spain</td>\n",
       "      <td>3.000000</td>\n",
       "    </tr>\n",
       "    <tr>\n",
       "      <th>4</th>\n",
       "      <td>Poland</td>\n",
       "      <td>2.666667</td>\n",
       "    </tr>\n",
       "  </tbody>\n",
       "</table>\n",
       "</div>"
      ],
      "text/plain": [
       "  country  visitNumber\n",
       "0   Italy    26.000000\n",
       "1   China     6.000000\n",
       "2  Russia     3.000000\n",
       "3   Spain     3.000000\n",
       "4  Poland     2.666667"
      ]
     },
     "execution_count": 51,
     "metadata": {},
     "output_type": "execute_result"
    }
   ],
   "source": [
    "x"
   ]
  },
  {
   "cell_type": "code",
   "execution_count": 52,
   "metadata": {},
   "outputs": [
    {
     "data": {
      "image/png": "[encoded data removed]",
      "text/plain": [
       "<Figure size 720x720 with 1 Axes>"
      ]
     },
     "metadata": {},
     "output_type": "display_data"
    }
   ],
   "source": [
    "fig = plt.figure(figsize=(10,10))\n",
    "explode = (0.1,0,0,0,0)\n",
    "labels = x['country']\n",
    "sizes = x['visitNumber']\n",
    "plt.pie(sizes,labels=labels,shadow=True,explode=explode,autopct='%1.1f%%',startangle=45)\n",
    "plt.show()"
   ]
  },
  {
   "cell_type": "markdown",
   "metadata": {},
   "source": [
    "##### Query Number 3:\n",
    "\n",
    "#### Plot a bar graph showing Number Of Vistiors through-out Devices!"
   ]
  },
  {
   "cell_type": "code",
   "execution_count": 53,
   "metadata": {},
   "outputs": [
    {
     "data": {
      "text/html": [
       "<div>\n",
       "<style scoped>\n",
       "    .dataframe tbody tr th:only-of-type {\n",
       "        vertical-align: middle;\n",
       "    }\n",
       "\n",
       "    .dataframe tbody tr th {\n",
       "        vertical-align: top;\n",
       "    }\n",
       "\n",
       "    .dataframe thead th {\n",
       "        text-align: right;\n",
       "    }\n",
       "</style>\n",
       "<table border=\"1\" class=\"dataframe\">\n",
       "  <thead>\n",
       "    <tr style=\"text-align: right;\">\n",
       "      <th></th>\n",
       "      <th>visitNumber</th>\n",
       "    </tr>\n",
       "    <tr>\n",
       "      <th>operatingSystem</th>\n",
       "      <th></th>\n",
       "    </tr>\n",
       "  </thead>\n",
       "  <tbody>\n",
       "    <tr>\n",
       "      <th>Android</th>\n",
       "      <td>58</td>\n",
       "    </tr>\n",
       "    <tr>\n",
       "      <th>Chrome OS</th>\n",
       "      <td>11</td>\n",
       "    </tr>\n",
       "    <tr>\n",
       "      <th>Linux</th>\n",
       "      <td>2</td>\n",
       "    </tr>\n",
       "    <tr>\n",
       "      <th>Macintosh</th>\n",
       "      <td>111</td>\n",
       "    </tr>\n",
       "    <tr>\n",
       "      <th>Windows</th>\n",
       "      <td>37</td>\n",
       "    </tr>\n",
       "    <tr>\n",
       "      <th>Windows Phone</th>\n",
       "      <td>1</td>\n",
       "    </tr>\n",
       "    <tr>\n",
       "      <th>iOS</th>\n",
       "      <td>51</td>\n",
       "    </tr>\n",
       "  </tbody>\n",
       "</table>\n",
       "</div>"
      ],
      "text/plain": [
       "                 visitNumber\n",
       "operatingSystem             \n",
       "Android                   58\n",
       "Chrome OS                 11\n",
       "Linux                      2\n",
       "Macintosh                111\n",
       "Windows                   37\n",
       "Windows Phone              1\n",
       "iOS                       51"
      ]
     },
     "execution_count": 53,
     "metadata": {},
     "output_type": "execute_result"
    }
   ],
   "source": [
    "#Lets Code\n",
    "raw.groupby('operatingSystem').agg({'visitNumber':'sum'}).head(10)"
   ]
  },
  {
   "cell_type": "code",
   "execution_count": 54,
   "metadata": {},
   "outputs": [
    {
     "data": {
      "text/plain": [
       "Text(0, 0.5, 'Visitors')"
      ]
     },
     "execution_count": 54,
     "metadata": {},
     "output_type": "execute_result"
    },
    {
     "data": {
      "image/png": "[encoded data removed]",
      "text/plain": [
       "<Figure size 720x432 with 1 Axes>"
      ]
     },
     "metadata": {
      "needs_background": "light"
     },
     "output_type": "display_data"
    }
   ],
   "source": [
    "#Lets Plot\n",
    "raw.groupby('operatingSystem').agg({'visitNumber':'sum'}).plot(kind='bar',color='green',figsize=(10,6))\n",
    "plt.title('Visitor By OS')\n",
    "plt.xlabel('OS')\n",
    "plt.ylabel('Visitors')"
   ]
  },
  {
   "cell_type": "code",
   "execution_count": 55,
   "metadata": {},
   "outputs": [],
   "source": [
    "#matplotlib OO method\n",
    "\n",
    "y = raw.groupby('operatingSystem').agg({'visitNumber':'sum'}).reset_index()"
   ]
  },
  {
   "cell_type": "code",
   "execution_count": 56,
   "metadata": {},
   "outputs": [
    {
     "data": {
      "image/png": "[encoded data removed]",
      "text/plain": [
       "<Figure size 720x432 with 1 Axes>"
      ]
     },
     "metadata": {
      "needs_background": "light"
     },
     "output_type": "display_data"
    }
   ],
   "source": [
    "fig = plt.figure(figsize=(10,6))\n",
    "\n",
    "objects = y['operatingSystem']\n",
    "y_pos = np.arange(len(objects))\n",
    "performance = y['visitNumber']\n",
    "\n",
    "plt.bar(y_pos,performance,data=y, align='center',color='red',alpha=0.5)\n",
    "plt.xticks(y_pos, objects)\n",
    "plt.title('Visitor By OS')\n",
    "plt.xlabel('OS')\n",
    "plt.ylabel('Visitors')\n",
    "plt.show()"
   ]
  },
  {
   "cell_type": "code",
   "execution_count": 59,
   "metadata": {},
   "outputs": [
    {
     "data": {
      "image/png": "[encoded data removed]",
      "text/plain": [
       "<Figure size 720x432 with 1 Axes>"
      ]
     },
     "metadata": {
      "needs_background": "light"
     },
     "output_type": "display_data"
    }
   ],
   "source": [
    "## seaborn method\n",
    "fig = plt.figure(figsize=(10,6))\n",
    "\n",
    "sns.barplot(x='operatingSystem',y='visitNumber',data=y)\n",
    "\n",
    "plt.title('Visitor By OS')\n",
    "plt.xlabel('OS')\n",
    "plt.ylabel('Visitors')\n",
    "plt.show()"
   ]
  },
  {
   "cell_type": "markdown",
   "metadata": {},
   "source": [
    "##### Query Number 4:\n",
    "\n",
    "#### Plot the disturbution of % Visitor through-out the countries around the dateset. "
   ]
  },
  {
   "cell_type": "code",
   "execution_count": 60,
   "metadata": {},
   "outputs": [
    {
     "data": {
      "text/html": [
       "<div>\n",
       "<style scoped>\n",
       "    .dataframe tbody tr th:only-of-type {\n",
       "        vertical-align: middle;\n",
       "    }\n",
       "\n",
       "    .dataframe tbody tr th {\n",
       "        vertical-align: top;\n",
       "    }\n",
       "\n",
       "    .dataframe thead th {\n",
       "        text-align: right;\n",
       "    }\n",
       "</style>\n",
       "<table border=\"1\" class=\"dataframe\">\n",
       "  <thead>\n",
       "    <tr style=\"text-align: right;\">\n",
       "      <th></th>\n",
       "      <th>visitNumber</th>\n",
       "    </tr>\n",
       "    <tr>\n",
       "      <th>country</th>\n",
       "      <th></th>\n",
       "    </tr>\n",
       "  </thead>\n",
       "  <tbody>\n",
       "    <tr>\n",
       "      <th>Australia</th>\n",
       "      <td>4</td>\n",
       "    </tr>\n",
       "    <tr>\n",
       "      <th>Austria</th>\n",
       "      <td>1</td>\n",
       "    </tr>\n",
       "    <tr>\n",
       "      <th>Brazil</th>\n",
       "      <td>2</td>\n",
       "    </tr>\n",
       "  </tbody>\n",
       "</table>\n",
       "</div>"
      ],
      "text/plain": [
       "           visitNumber\n",
       "country               \n",
       "Australia            4\n",
       "Austria              1\n",
       "Brazil               2"
      ]
     },
     "execution_count": 60,
     "metadata": {},
     "output_type": "execute_result"
    }
   ],
   "source": [
    "# lets code this first\n",
    "raw.groupby('country').agg({'visitNumber':'sum'}).head(3)"
   ]
  },
  {
   "cell_type": "code",
   "execution_count": 62,
   "metadata": {},
   "outputs": [],
   "source": [
    "x = raw.groupby('country').agg({'visitNumber':'sum'}).reset_index()"
   ]
  },
  {
   "cell_type": "code",
   "execution_count": 69,
   "metadata": {},
   "outputs": [],
   "source": [
    "x['%Visit'] = (x['visitNumber']/x['visitNumber'].sum())*100"
   ]
  },
  {
   "cell_type": "code",
   "execution_count": 76,
   "metadata": {},
   "outputs": [
    {
     "data": {
      "image/png": "[encoded data removed]",
      "text/plain": [
       "<Figure size 1152x288 with 1 Axes>"
      ]
     },
     "metadata": {
      "needs_background": "light"
     },
     "output_type": "display_data"
    }
   ],
   "source": [
    "fig = plt.figure(figsize=(16,4))\n",
    "x.groupby('country').sum()['%Visit'].plot(kind='bar',color='green',alpha=0.5,width=0.8)\n",
    "plt.title('% Visit By Country')\n",
    "plt.xlabel('Country')\n",
    "plt.ylabel('% Visit')\n",
    "plt.show()"
   ]
  },
  {
   "cell_type": "code",
   "execution_count": 85,
   "metadata": {},
   "outputs": [
    {
     "data": {
      "image/png": "[encoded data removed]",
      "text/plain": [
       "<Figure size 1152x288 with 1 Axes>"
      ]
     },
     "metadata": {
      "needs_background": "light"
     },
     "output_type": "display_data"
    }
   ],
   "source": [
    "## matplotlib OO method\n",
    "\n",
    "fig = plt.figure(figsize=(16,4))\n",
    "\n",
    "objects = x['country']\n",
    "y_pos = np.arange(len(objects))\n",
    "performance = x['%Visit']\n",
    "plt.bar(y_pos,performance,data=x,color='orange')\n",
    "plt.xticks(y_pos, objects,rotation='vertical')\n",
    "plt.title('% Visit By Country')\n",
    "plt.xlabel('Country')\n",
    "plt.ylabel('% Visit')\n",
    "plt.show()"
   ]
  },
  {
   "cell_type": "code",
   "execution_count": 89,
   "metadata": {},
   "outputs": [
    {
     "data": {
      "image/png": "[encoded data removed]",
      "text/plain": [
       "<Figure size 1152x288 with 1 Axes>"
      ]
     },
     "metadata": {
      "needs_background": "light"
     },
     "output_type": "display_data"
    }
   ],
   "source": [
    "# seaborn method\n",
    "fig = plt.figure(figsize=(16,4))\n",
    "\n",
    "sns.barplot(x='country',y='%Visit',data=x)\n",
    "\n",
    "plt.xticks(rotation='vertical')\n",
    "plt.title('% Visit By Country')\n",
    "plt.xlabel('Country')\n",
    "plt.ylabel('% Visit')\n",
    "plt.show()"
   ]
  },
  {
   "cell_type": "markdown",
   "metadata": {},
   "source": [
    "#### I hope, I had done fair enough job with this dataset, if you want to suggest any changes please do comment OR mail me the suggestion at vidharth.kate@gmail.com"
   ]
  }
 ],
 "metadata": {
  "kernelspec": {
   "display_name": "Python 3",
   "language": "python",
   "name": "python3"
  },
  "language_info": {
   "codemirror_mode": {
    "name": "ipython",
    "version": 3
   },
   "file_extension": ".py",
   "mimetype": "text/x-python",
   "name": "python",
   "nbconvert_exporter": "python",
   "pygments_lexer": "ipython3",
   "version": "3.7.3"
  }
 },
 "nbformat": 4,
 "nbformat_minor": 4
}
